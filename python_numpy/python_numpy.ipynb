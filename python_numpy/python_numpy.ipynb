{
 "cells": [
  {
   "cell_type": "markdown",
   "metadata": {},
   "source": [
    "### Basic Mathematics"
   ]
  },
  {
   "cell_type": "code",
   "execution_count": 7,
   "metadata": {},
   "outputs": [
    {
     "name": "stdout",
     "output_type": "stream",
     "text": [
      "Random number:  0.1980497185301956\n",
      "Number square root:  0.44502777276277444\n",
      "x^sqrt(x):  0.48645760983858305\n",
      "Random matrix:  [0.28184488 0.61596481 0.24634105]\n",
      "New matrix [0.28184488 0.61596481 0.24634105 0.32595592 0.38309051]\n",
      "Sine of matrix [0.27812821 0.57774629 0.24385711 0.32021452 0.37378874]\n"
     ]
    }
   ],
   "source": [
    "import numpy as np\n",
    "\n",
    "x = np.random.random()\n",
    "print(\"Random number: \", x)\n",
    "x_square_root =  np.sqrt(x)\n",
    "print(\"Number square root: \", x_square_root)\n",
    "print(\"x^sqrt(x): \", np.power(x, x_square_root))\n",
    "matrix = np.random.random(3)\n",
    "print(\"Random matrix: \", matrix)\n",
    "matrix = np.append(matrix, np.random.random(2))\n",
    "print(\"New matrix\", matrix)\n",
    "print(\"Sine of matrix\", np.sin(matrix))"
   ]
  },
  {
   "cell_type": "markdown",
   "metadata": {},
   "source": [
    "### Tour of Numpy"
   ]
  },
  {
   "cell_type": "code",
   "execution_count": 21,
   "metadata": {},
   "outputs": [
    {
     "name": "stdout",
     "output_type": "stream",
     "text": [
      "[0, 1, 5, 6, 80]\n",
      "[ 0  1  5  6 80]\n",
      "x np.arange =  [ 20.   23.6  27.2  30.8  34.4  38.   41.6  45.2  48.8  52.4  56.   59.6\n",
      "  63.2  66.8  70.4  74.   77.6  81.2  84.8  88.4  92.   95.6  99.2 102.8]\n",
      "y np.inespace =  [ 20.          29.41666667  38.83333333  48.25        57.66666667\n",
      "  67.08333333  76.5         85.91666667  95.33333333 104.75      ]\n"
     ]
    }
   ],
   "source": [
    "import numpy as np\n",
    "\n",
    "mvalues = [0,1,5,6,80]\n",
    "print(mvalues)\n",
    "M = np.array(mvalues)\n",
    "print(M)\n",
    "x = np.arange(20, 104.75, 3.6 )\n",
    "print(\"x np.arange = \", x)\n",
    "y = np.linspace(20, 104.75, 10)\n",
    "print(\"y np.inespace = \", y)\n",
    "\n",
    "_,spacing = np.linspace(20, 104.75)"
   ]
  },
  {
   "cell_type": "code",
   "execution_count": null,
   "metadata": {},
   "outputs": [],
   "source": []
  }
 ],
 "metadata": {
  "kernelspec": {
   "display_name": "Python 3",
   "language": "python",
   "name": "python3"
  },
  "language_info": {
   "codemirror_mode": {
    "name": "ipython",
    "version": 3
   },
   "file_extension": ".py",
   "mimetype": "text/x-python",
   "name": "python",
   "nbconvert_exporter": "python",
   "pygments_lexer": "ipython3",
   "version": "3.7.3"
  }
 },
 "nbformat": 4,
 "nbformat_minor": 2
}
