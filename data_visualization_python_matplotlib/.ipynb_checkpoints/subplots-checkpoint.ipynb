{
 "cells": [
  {
   "cell_type": "markdown",
   "metadata": {},
   "source": [
    "## Subplots"
   ]
  },
  {
   "cell_type": "markdown",
   "metadata": {},
   "source": [
    "### Basic subplot additions "
   ]
  },
  {
   "cell_type": "code",
   "execution_count": 3,
   "metadata": {},
   "outputs": [
    {
     "data": {
      "image/png": "[encoded data removed]",
      "text/plain": [
       "<Figure size 432x288 with 1 Axes>"
      ]
     },
     "metadata": {
      "needs_background": "light"
     },
     "output_type": "display_data"
    }
   ],
   "source": [
    "### Import key libraries \n",
    "import random\n",
    "import matplotlib.pyplot as plt \n",
    "%matplotlib inline\n",
    "\n",
    "# Initialise figure\n",
    "fig = plt.figure()\n",
    "\n",
    "# Function - create data for grap\n",
    "def create_plots():\n",
    "    xs = []\n",
    "    ys = []\n",
    "    \n",
    "    for i in range(10):\n",
    "        x = i\n",
    "        y = random.randrange(8)\n",
    "        \n",
    "        xs.append(x)\n",
    "        ys.append(y)\n",
    "    return xs, ys\n",
    "\n",
    "# Initialise axis \n",
    "ax1 = fig.add_subplot(111)\n",
    "\n",
    "# Get x and y values \n",
    "x, y = create_plots()\n",
    "ax1.plot(x,y)\n",
    "plt.show()\n",
    "    "
   ]
  },
  {
   "cell_type": "code",
   "execution_count": null,
   "metadata": {},
   "outputs": [],
   "source": []
  }
 ],
 "metadata": {
  "kernelspec": {
   "display_name": "Python 3",
   "language": "python",
   "name": "python3"
  },
  "language_info": {
   "codemirror_mode": {
    "name": "ipython",
    "version": 3
   },
   "file_extension": ".py",
   "mimetype": "text/x-python",
   "name": "python",
   "nbconvert_exporter": "python",
   "pygments_lexer": "ipython3",
   "version": "3.7.3"
  }
 },
 "nbformat": 4,
 "nbformat_minor": 2
}
